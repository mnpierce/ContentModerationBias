{
  "cells": [
    {
      "cell_type": "markdown",
      "metadata": {
        "id": "itDBqAzr0-x4"
      },
      "source": [
        "# CSE 3000: Content Moderation (Toxic Comments and Bias Anaylsis)"
      ]
    },
    {
      "cell_type": "markdown",
      "metadata": {
        "id": "84Kt1ejoztLR"
      },
      "source": [
        "Goal: Toxic text classification\n",
        "\n",
        "Definition\n",
        "- \"toxicity is defined as anything rude, disrespectful or otherwise likely to make someone leave a discussion.\""
      ]
    },
    {
      "cell_type": "markdown",
      "metadata": {
        "id": "q7VITKlu08YO"
      },
      "source": [
        "### Imports and Files"
      ]
    },
    {
      "cell_type": "code",
      "execution_count": 2,
      "metadata": {
        "id": "vho_q66UqODF"
      },
      "outputs": [],
      "source": [
        "from sklearn.metrics import confusion_matrix, classification_report, accuracy_score, roc_auc_score, roc_curve, ConfusionMatrixDisplay\n",
        "from sklearn.model_selection import train_test_split\n",
        "from sklearn.feature_extraction.text import TfidfVectorizer\n",
        "from sklearn.linear_model import LogisticRegression\n",
        "from sklearn.naive_bayes import MultinomialNB, ComplementNB\n",
        "import numpy as np\n",
        "import pandas as pd\n",
        "import matplotlib.pyplot as plt\n",
        "import seaborn as sns\n",
        "# from google.colab import files # uncomment to run in Google Colab"
      ]
    },
    {
      "cell_type": "markdown",
      "metadata": {
        "id": "HJEZjQPg51Ua"
      },
      "source": [
        "Upload (Google Colab):\n",
        "\n",
        "1.   `tokenized_train.csv` (LARGE, can take around 6 mins)\n",
        "2.   `test_data_predictions.csv`\n",
        "\n",
        "\n"
      ]
    },
    {
      "cell_type": "markdown",
      "metadata": {
        "id": "TthG5WkH9A6q"
      },
      "source": [
        "NOTE: Can skip preprocessed csv if taking too long to download, but will have to skip logistic regression, naive bayes sections. This took around 6 minutes when I tried."
      ]
    },
    {
      "cell_type": "code",
      "execution_count": null,
      "metadata": {
        "colab": {
          "base_uri": "https://localhost:8080/",
          "height": 73
        },
        "id": "mHTvZM6y5vf5",
        "outputId": "e7aebc7a-d40b-4fb8-e17c-813c6461aadc"
      },
      "outputs": [
        {
          "data": {
            "text/html": [
              "\n",
              "     <input type=\"file\" id=\"files-f3b9cf05-c254-4c68-b4f6-a569a24fac30\" name=\"files[]\" multiple disabled\n",
              "        style=\"border:none\" />\n",
              "     <output id=\"result-f3b9cf05-c254-4c68-b4f6-a569a24fac30\">\n",
              "      Upload widget is only available when the cell has been executed in the\n",
              "      current browser session. Please rerun this cell to enable.\n",
              "      </output>\n",
              "      <script>// Copyright 2017 Google LLC\n",
              "//\n",
              "// Licensed under the Apache License, Version 2.0 (the \"License\");\n",
              "// you may not use this file except in compliance with the License.\n",
              "// You may obtain a copy of the License at\n",
              "//\n",
              "//      http://www.apache.org/licenses/LICENSE-2.0\n",
              "//\n",
              "// Unless required by applicable law or agreed to in writing, software\n",
              "// distributed under the License is distributed on an \"AS IS\" BASIS,\n",
              "// WITHOUT WARRANTIES OR CONDITIONS OF ANY KIND, either express or implied.\n",
              "// See the License for the specific language governing permissions and\n",
              "// limitations under the License.\n",
              "\n",
              "/**\n",
              " * @fileoverview Helpers for google.colab Python module.\n",
              " */\n",
              "(function(scope) {\n",
              "function span(text, styleAttributes = {}) {\n",
              "  const element = document.createElement('span');\n",
              "  element.textContent = text;\n",
              "  for (const key of Object.keys(styleAttributes)) {\n",
              "    element.style[key] = styleAttributes[key];\n",
              "  }\n",
              "  return element;\n",
              "}\n",
              "\n",
              "// Max number of bytes which will be uploaded at a time.\n",
              "const MAX_PAYLOAD_SIZE = 100 * 1024;\n",
              "\n",
              "function _uploadFiles(inputId, outputId) {\n",
              "  const steps = uploadFilesStep(inputId, outputId);\n",
              "  const outputElement = document.getElementById(outputId);\n",
              "  // Cache steps on the outputElement to make it available for the next call\n",
              "  // to uploadFilesContinue from Python.\n",
              "  outputElement.steps = steps;\n",
              "\n",
              "  return _uploadFilesContinue(outputId);\n",
              "}\n",
              "\n",
              "// This is roughly an async generator (not supported in the browser yet),\n",
              "// where there are multiple asynchronous steps and the Python side is going\n",
              "// to poll for completion of each step.\n",
              "// This uses a Promise to block the python side on completion of each step,\n",
              "// then passes the result of the previous step as the input to the next step.\n",
              "function _uploadFilesContinue(outputId) {\n",
              "  const outputElement = document.getElementById(outputId);\n",
              "  const steps = outputElement.steps;\n",
              "\n",
              "  const next = steps.next(outputElement.lastPromiseValue);\n",
              "  return Promise.resolve(next.value.promise).then((value) => {\n",
              "    // Cache the last promise value to make it available to the next\n",
              "    // step of the generator.\n",
              "    outputElement.lastPromiseValue = value;\n",
              "    return next.value.response;\n",
              "  });\n",
              "}\n",
              "\n",
              "/**\n",
              " * Generator function which is called between each async step of the upload\n",
              " * process.\n",
              " * @param {string} inputId Element ID of the input file picker element.\n",
              " * @param {string} outputId Element ID of the output display.\n",
              " * @return {!Iterable<!Object>} Iterable of next steps.\n",
              " */\n",
              "function* uploadFilesStep(inputId, outputId) {\n",
              "  const inputElement = document.getElementById(inputId);\n",
              "  inputElement.disabled = false;\n",
              "\n",
              "  const outputElement = document.getElementById(outputId);\n",
              "  outputElement.innerHTML = '';\n",
              "\n",
              "  const pickedPromise = new Promise((resolve) => {\n",
              "    inputElement.addEventListener('change', (e) => {\n",
              "      resolve(e.target.files);\n",
              "    });\n",
              "  });\n",
              "\n",
              "  const cancel = document.createElement('button');\n",
              "  inputElement.parentElement.appendChild(cancel);\n",
              "  cancel.textContent = 'Cancel upload';\n",
              "  const cancelPromise = new Promise((resolve) => {\n",
              "    cancel.onclick = () => {\n",
              "      resolve(null);\n",
              "    };\n",
              "  });\n",
              "\n",
              "  // Wait for the user to pick the files.\n",
              "  const files = yield {\n",
              "    promise: Promise.race([pickedPromise, cancelPromise]),\n",
              "    response: {\n",
              "      action: 'starting',\n",
              "    }\n",
              "  };\n",
              "\n",
              "  cancel.remove();\n",
              "\n",
              "  // Disable the input element since further picks are not allowed.\n",
              "  inputElement.disabled = true;\n",
              "\n",
              "  if (!files) {\n",
              "    return {\n",
              "      response: {\n",
              "        action: 'complete',\n",
              "      }\n",
              "    };\n",
              "  }\n",
              "\n",
              "  for (const file of files) {\n",
              "    const li = document.createElement('li');\n",
              "    li.append(span(file.name, {fontWeight: 'bold'}));\n",
              "    li.append(span(\n",
              "        `(${file.type || 'n/a'}) - ${file.size} bytes, ` +\n",
              "        `last modified: ${\n",
              "            file.lastModifiedDate ? file.lastModifiedDate.toLocaleDateString() :\n",
              "                                    'n/a'} - `));\n",
              "    const percent = span('0% done');\n",
              "    li.appendChild(percent);\n",
              "\n",
              "    outputElement.appendChild(li);\n",
              "\n",
              "    const fileDataPromise = new Promise((resolve) => {\n",
              "      const reader = new FileReader();\n",
              "      reader.onload = (e) => {\n",
              "        resolve(e.target.result);\n",
              "      };\n",
              "      reader.readAsArrayBuffer(file);\n",
              "    });\n",
              "    // Wait for the data to be ready.\n",
              "    let fileData = yield {\n",
              "      promise: fileDataPromise,\n",
              "      response: {\n",
              "        action: 'continue',\n",
              "      }\n",
              "    };\n",
              "\n",
              "    // Use a chunked sending to avoid message size limits. See b/62115660.\n",
              "    let position = 0;\n",
              "    do {\n",
              "      const length = Math.min(fileData.byteLength - position, MAX_PAYLOAD_SIZE);\n",
              "      const chunk = new Uint8Array(fileData, position, length);\n",
              "      position += length;\n",
              "\n",
              "      const base64 = btoa(String.fromCharCode.apply(null, chunk));\n",
              "      yield {\n",
              "        response: {\n",
              "          action: 'append',\n",
              "          file: file.name,\n",
              "          data: base64,\n",
              "        },\n",
              "      };\n",
              "\n",
              "      let percentDone = fileData.byteLength === 0 ?\n",
              "          100 :\n",
              "          Math.round((position / fileData.byteLength) * 100);\n",
              "      percent.textContent = `${percentDone}% done`;\n",
              "\n",
              "    } while (position < fileData.byteLength);\n",
              "  }\n",
              "\n",
              "  // All done.\n",
              "  yield {\n",
              "    response: {\n",
              "      action: 'complete',\n",
              "    }\n",
              "  };\n",
              "}\n",
              "\n",
              "scope.google = scope.google || {};\n",
              "scope.google.colab = scope.google.colab || {};\n",
              "scope.google.colab._files = {\n",
              "  _uploadFiles,\n",
              "  _uploadFilesContinue,\n",
              "};\n",
              "})(self);\n",
              "</script> "
            ],
            "text/plain": [
              "<IPython.core.display.HTML object>"
            ]
          },
          "metadata": {},
          "output_type": "display_data"
        },
        {
          "name": "stdout",
          "output_type": "stream",
          "text": [
            "Saving test_data_predictions.csv to test_data_predictions.csv\n"
          ]
        }
      ],
      "source": [
        "# uploaded_files = files.upload() # uncomment to upload files in google colab"
      ]
    },
    {
      "cell_type": "markdown",
      "metadata": {
        "id": "pc3GSIHW4Mem"
      },
      "source": [
        "## Trimming Dataset"
      ]
    },
    {
      "cell_type": "markdown",
      "metadata": {
        "id": "-kQJnO_X4Vtu"
      },
      "source": [
        "We will not be executing this code, but this is just to show how the dataset was trimmed before official preprocessing."
      ]
    },
    {
      "cell_type": "code",
      "execution_count": null,
      "metadata": {
        "id": "CASQRaJ84Q-I"
      },
      "outputs": [],
      "source": [
        "'''\n",
        "# Load the CSV file into a DataFrame\n",
        "df = pd.read_csv('full_train.csv')\n",
        "\n",
        "# Remove rows where 'other_race_or_ethnicity' is NULL (NaN)\n",
        "# Doesnt matter which label is used for this purpose, as they have all or none\n",
        "df = df.dropna(subset=['other_race_or_ethnicity'])\n",
        "\n",
        "# Remove rows where 'toxicity_annotator_count' is less than 10\n",
        "df = df[df['toxicity_annotator_count'] >= 10]\n",
        "\n",
        "# Save the cleaned DataFrame to a new CSV file (optional)\n",
        "df.to_csv('cleaned_file.csv', index=False)\n",
        "'''"
      ]
    },
    {
      "cell_type": "markdown",
      "metadata": {
        "id": "Kd2H5K-u3J6c"
      },
      "source": [
        "## Preprocessing for baseline models"
      ]
    },
    {
      "cell_type": "markdown",
      "metadata": {
        "id": "oJLKXHR03Ve5"
      },
      "source": [
        "Simple models require tokenizing the text so that words are individual features. This is not required for more complex models such as BERT which we will explore as well. Below is the general process we used to process the text, although to simplify things we will feed our baseline models the already-preprocessed dataset."
      ]
    },
    {
      "cell_type": "code",
      "execution_count": null,
      "metadata": {
        "colab": {
          "base_uri": "https://localhost:8080/",
          "height": 250
        },
        "id": "r_dH3BgO3QTU",
        "outputId": "c1385559-2e06-4779-9908-dcde57ded8cf"
      },
      "outputs": [
        {
          "data": {
            "application/vnd.google.colaboratory.intrinsic+json": {
              "type": "string"
            },
            "text/plain": [
              "'\\nimport nltk\\nnltk.download(\\'punkt\\')\\nnltk.download(\\'stopwords\\')\\n\\ndef preprocess_text(text):\\n    # Normalize special characters (e.g., \"bit__\" → \"bit_\")\\n    text = re.sub(r\\'([!@#$%^&*()_+=\\\\-[\\\\]{};:\\'\",./<>?|\\\\~`])\\x01*\\', r\\'\\x01\\', text)\\n    # Convert emojis to text\\n    text = emoji.demojize(text)\\n    # Expand contractions\\n    text = fix(text)\\n    # Normalize slang\\n    text = re.sub(r\\'\\x08u\\x08\\', \\'you\\', text)\\n    # Remove URLs, mentions, and hashtags\\n    text = re.sub(r\\'http\\\\S+|@\\\\w+|#\\\\w+\\', \\'\\', text)\\n    # Convert to lowercase\\n    text = text.lower()\\n    # Remove extra whitespace\\n    text = \\' \\'.join(text.split())\\n    return text\\n\\n# Function to tokenize text (without tokenizing punctuation)\\ndef tokenize_text(text):\\n    # Use regex to split into words while preserving special characters within words\\n    tokens = re.findall(r\\'\\x08\\\\w+\\x08\\', text)\\n    # Remove stop words (optional)\\n    stop_words = set(stopwords.words(\\'english\\'))\\n    tokens = [token for token in tokens if token not in stop_words]\\n    return tokens\\n'"
            ]
          },
          "execution_count": 2,
          "metadata": {},
          "output_type": "execute_result"
        }
      ],
      "source": [
        "'''\n",
        "import re\n",
        "import emoji\n",
        "from contractions import fix\n",
        "from nltk.tokenize import word_tokenize\n",
        "from nltk.corpus import stopwords\n",
        "import nltk\n",
        "nltk.download('punkt')\n",
        "nltk.download('stopwords')\n",
        "\n",
        "def preprocess_text(text):\n",
        "    # Normalize special characters (e.g., \"bit__\" → \"bit_\")\n",
        "    text = re.sub(r'([!@#$%^&*()_+=\\-[\\]{};:\\'\",./<>?|\\\\~`])\\1*', r'\\1', text)\n",
        "    # Convert emojis to text\n",
        "    text = emoji.demojize(text)\n",
        "    # Expand contractions\n",
        "    text = fix(text)\n",
        "    # Normalize slang\n",
        "    text = re.sub(r'\\bu\\b', 'you', text)\n",
        "    # Remove URLs, mentions, and hashtags\n",
        "    text = re.sub(r'http\\S+|@\\w+|#\\w+', '', text)\n",
        "    # Convert to lowercase\n",
        "    text = text.lower()\n",
        "    # Remove extra whitespace\n",
        "    text = ' '.join(text.split())\n",
        "    return text\n",
        "\n",
        "# Function to tokenize text (without tokenizing punctuation)\n",
        "def tokenize_text(text):\n",
        "    # Use regex to split into words while preserving special characters within words\n",
        "    tokens = re.findall(r'\\b\\w+\\b', text)\n",
        "    # Remove stop words (optional)\n",
        "    stop_words = set(stopwords.words('english'))\n",
        "    tokens = [token for token in tokens if token not in stop_words]\n",
        "    return tokens\n",
        "'''"
      ]
    },
    {
      "cell_type": "markdown",
      "metadata": {
        "id": "o5He44Qd8VGo"
      },
      "source": [
        "## Dataset Info"
      ]
    },
    {
      "cell_type": "code",
      "execution_count": 4,
      "metadata": {
        "colab": {
          "base_uri": "https://localhost:8080/"
        },
        "id": "O2dWLGTp8XVW",
        "outputId": "25834837-702f-4f1a-c4c4-c31468c69044"
      },
      "outputs": [
        {
          "name": "stdout",
          "output_type": "stream",
          "text": [
            "Dataset shape: (107910, 48)\n",
            "Number of toxic comments (target >= 0.5): 44031\n",
            "Number of non-toxic comments (target < 0.5): 63879\n"
          ]
        }
      ],
      "source": [
        "df = pd.read_csv('csv_data/tokenized_train.csv')\n",
        "df.head()\n",
        "df['binary_target'] = (df['target'] >= 0.5).astype(int)\n",
        "print(f\"Dataset shape: {df.shape}\")\n",
        "print(f\"Number of toxic comments (target >= 0.5): {df['binary_target'].sum()}\")\n",
        "print(f\"Number of non-toxic comments (target < 0.5): {len(df) - df['binary_target'].sum()}\")"
      ]
    },
    {
      "cell_type": "markdown",
      "metadata": {
        "id": "7_uLoKSG2iHR"
      },
      "source": [
        "## Logistic Regression Model"
      ]
    },
    {
      "cell_type": "markdown",
      "metadata": {
        "id": "ueV2LP0r20_U"
      },
      "source": [
        "Perform logistic regression to classify text. Takes preprocessed data."
      ]
    },
    {
      "cell_type": "code",
      "execution_count": 5,
      "metadata": {
        "id": "8TnCuXWa2tQh"
      },
      "outputs": [],
      "source": [
        "df = pd.read_csv('csv_data/tokenized_train.csv')\n",
        "\n",
        "# Ensure the 'tokens' column is a list of strings\n",
        "df['tokens'] = df['tokens'].apply(eval)  # Convert string representation of list to actual list\n",
        "\n",
        "# Join tokens into a single string\n",
        "df['text'] = df['tokens'].apply(lambda x: ' '.join(x))\n",
        "\n",
        "tfidf_vectorizer = TfidfVectorizer(max_features=10000)  # You can adjust max_features\n",
        "tfidf_matrix = tfidf_vectorizer.fit_transform(df['text'])"
      ]
    },
    {
      "cell_type": "code",
      "execution_count": 6,
      "metadata": {
        "id": "_xOmgwnc6scB"
      },
      "outputs": [],
      "source": [
        "X = tfidf_matrix  # Features (TF-IDF matrix)\n",
        "df['binary_target'] = (df['target'] >= 0.5).astype(int)\n",
        "y = df['binary_target']   # Target labels (toxic/non-toxic)\n",
        "X_train, X_test, y_train, y_test = train_test_split(X, y, test_size=0.2, random_state=42)"
      ]
    },
    {
      "cell_type": "code",
      "execution_count": 7,
      "metadata": {
        "id": "n9iS3ysR68I4"
      },
      "outputs": [],
      "source": [
        "model = LogisticRegression()\n",
        "model.fit(X_train, y_train)\n",
        "y_pred = model.predict(X_test)"
      ]
    },
    {
      "cell_type": "code",
      "execution_count": 8,
      "metadata": {
        "colab": {
          "base_uri": "https://localhost:8080/"
        },
        "id": "hQqhkgW47Cue",
        "outputId": "1cb68046-1174-4424-90c0-aa10413fdaaa"
      },
      "outputs": [
        {
          "name": "stdout",
          "output_type": "stream",
          "text": [
            "Accuracy: 0.7256973403762395\n",
            "Report:\n",
            "               precision    recall  f1-score   support\n",
            "\n",
            "           0       0.72      0.87      0.79     12706\n",
            "           1       0.73      0.52      0.61      8876\n",
            "\n",
            "    accuracy                           0.73     21582\n",
            "   macro avg       0.73      0.70      0.70     21582\n",
            "weighted avg       0.73      0.73      0.72     21582\n",
            "\n"
          ]
        }
      ],
      "source": [
        "print(\"Accuracy:\", accuracy_score(y_test, y_pred))\n",
        "print(\"Report:\\n\", classification_report(y_test, y_pred))"
      ]
    },
    {
      "cell_type": "markdown",
      "metadata": {
        "id": "tfHKg8QU7F7P"
      },
      "source": [
        "## Naive Bayes"
      ]
    },
    {
      "cell_type": "markdown",
      "metadata": {
        "id": "yajBW2DF7JtY"
      },
      "source": [
        "We will quickly try two models for Naive Bayes: Multinomial Naive Bayes and Complement Naive Bayes.\n",
        "\n",
        "Complement Naive Bayes is theoretically better at handling imbalance. We have some imbalance although not extreme so may not see significant improvement."
      ]
    },
    {
      "cell_type": "code",
      "execution_count": 9,
      "metadata": {
        "id": "03ynkKIG7fRd"
      },
      "outputs": [],
      "source": [
        "# Train a Multinomial NB model\n",
        "model = MultinomialNB()\n",
        "model.fit(X_train, y_train)\n",
        "y_pred = model.predict(X_test)"
      ]
    },
    {
      "cell_type": "code",
      "execution_count": 10,
      "metadata": {
        "colab": {
          "base_uri": "https://localhost:8080/"
        },
        "id": "dY51KTWh7lp-",
        "outputId": "e7e13813-e77e-4c0e-d722-be2ace06e91e"
      },
      "outputs": [
        {
          "name": "stdout",
          "output_type": "stream",
          "text": [
            "Accuracy: 0.6877953850430915\n",
            "Classification Report:\n",
            "               precision    recall  f1-score   support\n",
            "\n",
            "           0       0.67      0.91      0.77     12706\n",
            "           1       0.74      0.37      0.49      8876\n",
            "\n",
            "    accuracy                           0.69     21582\n",
            "   macro avg       0.71      0.64      0.63     21582\n",
            "weighted avg       0.70      0.69      0.66     21582\n",
            "\n"
          ]
        }
      ],
      "source": [
        "print(\"Accuracy:\", accuracy_score(y_test, y_pred))\n",
        "print(\"Classification Report:\\n\", classification_report(y_test, y_pred))"
      ]
    },
    {
      "cell_type": "code",
      "execution_count": 11,
      "metadata": {
        "id": "qasiDLQR7nRJ"
      },
      "outputs": [],
      "source": [
        "# Train a Complement NB model\n",
        "model = ComplementNB()\n",
        "model.fit(X_train, y_train)\n",
        "y_pred = model.predict(X_test)"
      ]
    },
    {
      "cell_type": "code",
      "execution_count": 12,
      "metadata": {
        "colab": {
          "base_uri": "https://localhost:8080/"
        },
        "id": "J4T1mu487o9o",
        "outputId": "a0b5f526-64ea-4929-b826-7d8a927b04cb"
      },
      "outputs": [
        {
          "name": "stdout",
          "output_type": "stream",
          "text": [
            "Accuracy: 0.6587897321842276\n",
            "Classification Report:\n",
            "               precision    recall  f1-score   support\n",
            "\n",
            "           0       0.74      0.65      0.69     12706\n",
            "           1       0.57      0.67      0.62      8876\n",
            "\n",
            "    accuracy                           0.66     21582\n",
            "   macro avg       0.66      0.66      0.65     21582\n",
            "weighted avg       0.67      0.66      0.66     21582\n",
            "\n"
          ]
        }
      ],
      "source": [
        "print(\"Accuracy:\", accuracy_score(y_test, y_pred))\n",
        "print(\"Classification Report:\\n\", classification_report(y_test, y_pred))"
      ]
    },
    {
      "cell_type": "markdown",
      "metadata": {
        "id": "oJ0XaN7D-Zd_"
      },
      "source": [
        "Clearly, Logistic Regression performs the best out of these baseline models. As predicted, Complement NB performs better (more consistent across classes) than Multinomial NB by handling the imbalance. We will go more in depth in the next section with a transformer approach."
      ]
    },
    {
      "cell_type": "markdown",
      "metadata": {
        "id": "KPpX3Q3Zw5oX"
      },
      "source": [
        "# BERT Binary Classification Model"
      ]
    },
    {
      "cell_type": "markdown",
      "metadata": {
        "id": "njTBX6jzzvT6"
      },
      "source": [
        "Uses BERT model, too computationally expensive to run on Google Colab, so we will just import the full predictions csv."
      ]
    },
    {
      "cell_type": "markdown",
      "metadata": {
        "id": "SdVfvQ8a2NKr"
      },
      "source": [
        "## Load Data"
      ]
    },
    {
      "cell_type": "code",
      "execution_count": 14,
      "metadata": {
        "colab": {
          "base_uri": "https://localhost:8080/",
          "height": 533
        },
        "id": "WXurrFD6oU5f",
        "outputId": "2a3c07e2-43dc-4654-e325-dfeaf318ff72"
      },
      "outputs": [
        {
          "data": {
            "text/html": [
              "<div>\n",
              "<style scoped>\n",
              "    .dataframe tbody tr th:only-of-type {\n",
              "        vertical-align: middle;\n",
              "    }\n",
              "\n",
              "    .dataframe tbody tr th {\n",
              "        vertical-align: top;\n",
              "    }\n",
              "\n",
              "    .dataframe thead th {\n",
              "        text-align: right;\n",
              "    }\n",
              "</style>\n",
              "<table border=\"1\" class=\"dataframe\">\n",
              "  <thead>\n",
              "    <tr style=\"text-align: right;\">\n",
              "      <th></th>\n",
              "      <th>comment_text</th>\n",
              "      <th>human_binary</th>\n",
              "      <th>predicted_binary</th>\n",
              "      <th>human_decimal</th>\n",
              "      <th>predicted_decimal</th>\n",
              "      <th>asian</th>\n",
              "      <th>atheist</th>\n",
              "      <th>bisexual</th>\n",
              "      <th>black</th>\n",
              "      <th>buddhist</th>\n",
              "      <th>...</th>\n",
              "      <th>muslim</th>\n",
              "      <th>other_disability</th>\n",
              "      <th>other_gender</th>\n",
              "      <th>other_race_or_ethnicity</th>\n",
              "      <th>other_religion</th>\n",
              "      <th>other_sexual_orientation</th>\n",
              "      <th>physical_disability</th>\n",
              "      <th>psychiatric_or_mental_illness</th>\n",
              "      <th>transgender</th>\n",
              "      <th>white</th>\n",
              "    </tr>\n",
              "  </thead>\n",
              "  <tbody>\n",
              "    <tr>\n",
              "      <th>0</th>\n",
              "      <td>\"But, but, but, what about the things Trump do...</td>\n",
              "      <td>0</td>\n",
              "      <td>0</td>\n",
              "      <td>0.2</td>\n",
              "      <td>0.280961</td>\n",
              "      <td>0.0</td>\n",
              "      <td>0.0</td>\n",
              "      <td>0.0</td>\n",
              "      <td>0.0</td>\n",
              "      <td>0.0</td>\n",
              "      <td>...</td>\n",
              "      <td>0.0</td>\n",
              "      <td>0.0</td>\n",
              "      <td>0.0</td>\n",
              "      <td>0.0</td>\n",
              "      <td>0.0</td>\n",
              "      <td>0.166667</td>\n",
              "      <td>0.0</td>\n",
              "      <td>0.0</td>\n",
              "      <td>0.0</td>\n",
              "      <td>0.0</td>\n",
              "    </tr>\n",
              "    <tr>\n",
              "      <th>1</th>\n",
              "      <td>Speaking for women and saying you aren't sexis...</td>\n",
              "      <td>0</td>\n",
              "      <td>0</td>\n",
              "      <td>0.2</td>\n",
              "      <td>0.099996</td>\n",
              "      <td>0.0</td>\n",
              "      <td>0.0</td>\n",
              "      <td>0.0</td>\n",
              "      <td>0.0</td>\n",
              "      <td>0.0</td>\n",
              "      <td>...</td>\n",
              "      <td>0.0</td>\n",
              "      <td>0.0</td>\n",
              "      <td>0.0</td>\n",
              "      <td>0.0</td>\n",
              "      <td>0.0</td>\n",
              "      <td>0.000000</td>\n",
              "      <td>0.0</td>\n",
              "      <td>0.0</td>\n",
              "      <td>0.0</td>\n",
              "      <td>0.0</td>\n",
              "    </tr>\n",
              "    <tr>\n",
              "      <th>2</th>\n",
              "      <td>I thought Liberal Trolls had Wednesday off!</td>\n",
              "      <td>0</td>\n",
              "      <td>1</td>\n",
              "      <td>0.2</td>\n",
              "      <td>0.741768</td>\n",
              "      <td>0.0</td>\n",
              "      <td>0.0</td>\n",
              "      <td>0.0</td>\n",
              "      <td>0.0</td>\n",
              "      <td>0.0</td>\n",
              "      <td>...</td>\n",
              "      <td>0.0</td>\n",
              "      <td>0.0</td>\n",
              "      <td>0.0</td>\n",
              "      <td>0.0</td>\n",
              "      <td>0.0</td>\n",
              "      <td>0.000000</td>\n",
              "      <td>0.0</td>\n",
              "      <td>0.0</td>\n",
              "      <td>0.0</td>\n",
              "      <td>0.0</td>\n",
              "    </tr>\n",
              "    <tr>\n",
              "      <th>3</th>\n",
              "      <td>Nonsense. I said no such thing. If you poke a ...</td>\n",
              "      <td>0</td>\n",
              "      <td>0</td>\n",
              "      <td>0.2</td>\n",
              "      <td>0.166269</td>\n",
              "      <td>0.0</td>\n",
              "      <td>0.0</td>\n",
              "      <td>0.0</td>\n",
              "      <td>0.0</td>\n",
              "      <td>0.0</td>\n",
              "      <td>...</td>\n",
              "      <td>0.0</td>\n",
              "      <td>0.0</td>\n",
              "      <td>0.0</td>\n",
              "      <td>0.0</td>\n",
              "      <td>0.0</td>\n",
              "      <td>0.000000</td>\n",
              "      <td>0.0</td>\n",
              "      <td>0.0</td>\n",
              "      <td>0.0</td>\n",
              "      <td>0.0</td>\n",
              "    </tr>\n",
              "    <tr>\n",
              "      <th>4</th>\n",
              "      <td>Maybe he was a degenerate descendant of Vlad t...</td>\n",
              "      <td>0</td>\n",
              "      <td>0</td>\n",
              "      <td>0.4</td>\n",
              "      <td>0.276935</td>\n",
              "      <td>0.0</td>\n",
              "      <td>0.0</td>\n",
              "      <td>0.0</td>\n",
              "      <td>0.0</td>\n",
              "      <td>0.0</td>\n",
              "      <td>...</td>\n",
              "      <td>0.0</td>\n",
              "      <td>0.0</td>\n",
              "      <td>0.0</td>\n",
              "      <td>0.0</td>\n",
              "      <td>0.0</td>\n",
              "      <td>0.000000</td>\n",
              "      <td>0.0</td>\n",
              "      <td>0.0</td>\n",
              "      <td>0.0</td>\n",
              "      <td>0.0</td>\n",
              "    </tr>\n",
              "  </tbody>\n",
              "</table>\n",
              "<p>5 rows × 29 columns</p>\n",
              "</div>"
            ],
            "text/plain": [
              "                                        comment_text  human_binary  \\\n",
              "0  \"But, but, but, what about the things Trump do...             0   \n",
              "1  Speaking for women and saying you aren't sexis...             0   \n",
              "2        I thought Liberal Trolls had Wednesday off!             0   \n",
              "3  Nonsense. I said no such thing. If you poke a ...             0   \n",
              "4  Maybe he was a degenerate descendant of Vlad t...             0   \n",
              "\n",
              "   predicted_binary  human_decimal  predicted_decimal  asian  atheist  \\\n",
              "0                 0            0.2           0.280961    0.0      0.0   \n",
              "1                 0            0.2           0.099996    0.0      0.0   \n",
              "2                 1            0.2           0.741768    0.0      0.0   \n",
              "3                 0            0.2           0.166269    0.0      0.0   \n",
              "4                 0            0.4           0.276935    0.0      0.0   \n",
              "\n",
              "   bisexual  black  buddhist  ...  muslim  other_disability  other_gender  \\\n",
              "0       0.0    0.0       0.0  ...     0.0               0.0           0.0   \n",
              "1       0.0    0.0       0.0  ...     0.0               0.0           0.0   \n",
              "2       0.0    0.0       0.0  ...     0.0               0.0           0.0   \n",
              "3       0.0    0.0       0.0  ...     0.0               0.0           0.0   \n",
              "4       0.0    0.0       0.0  ...     0.0               0.0           0.0   \n",
              "\n",
              "   other_race_or_ethnicity  other_religion  other_sexual_orientation  \\\n",
              "0                      0.0             0.0                  0.166667   \n",
              "1                      0.0             0.0                  0.000000   \n",
              "2                      0.0             0.0                  0.000000   \n",
              "3                      0.0             0.0                  0.000000   \n",
              "4                      0.0             0.0                  0.000000   \n",
              "\n",
              "   physical_disability  psychiatric_or_mental_illness  transgender  white  \n",
              "0                  0.0                            0.0          0.0    0.0  \n",
              "1                  0.0                            0.0          0.0    0.0  \n",
              "2                  0.0                            0.0          0.0    0.0  \n",
              "3                  0.0                            0.0          0.0    0.0  \n",
              "4                  0.0                            0.0          0.0    0.0  \n",
              "\n",
              "[5 rows x 29 columns]"
            ]
          },
          "execution_count": 14,
          "metadata": {},
          "output_type": "execute_result"
        }
      ],
      "source": [
        "full_predictions = pd.read_csv('csv_data/test_data_predictions.csv')\n",
        "full_predictions.head()"
      ]
    },
    {
      "cell_type": "code",
      "execution_count": 15,
      "metadata": {
        "id": "A__xz0UFpMk4"
      },
      "outputs": [],
      "source": [
        "human_labels = full_predictions['human_binary']\n",
        "predicted_labels = full_predictions['predicted_binary']"
      ]
    },
    {
      "cell_type": "markdown",
      "metadata": {
        "id": "gIwwyQjB6gfm"
      },
      "source": [
        "## Overall Results"
      ]
    },
    {
      "cell_type": "code",
      "execution_count": 16,
      "metadata": {
        "colab": {
          "base_uri": "https://localhost:8080/",
          "height": 472
        },
        "id": "wciOYbc6kgIr",
        "outputId": "a1609497-4377-45f3-ade9-3db58371ec37"
      },
      "outputs": [
        {
          "data": {
            "image/png": "[encoded data removed]",
            "text/plain": [
              "<Figure size 640x480 with 2 Axes>"
            ]
          },
          "metadata": {},
          "output_type": "display_data"
        }
      ],
      "source": [
        "axis_labels = ['Non-Toxic', 'Toxic']\n",
        "\n",
        "sns.heatmap(confusion_matrix(human_labels, predicted_labels),\n",
        "            annot=True,     # Show numbers in the cells\n",
        "            fmt='d',        # Format numbers as integers\n",
        "            cmap='Blues',   # Color scheme\n",
        "            xticklabels=axis_labels,\n",
        "            yticklabels=axis_labels)\n",
        "\n",
        "plt.xlabel('Predicted Label')\n",
        "plt.ylabel('Human Label')\n",
        "plt.title('Confusion Matrix')\n",
        "plt.show()"
      ]
    },
    {
      "cell_type": "markdown",
      "metadata": {
        "id": "G_qes9yh0p1C"
      },
      "source": [
        "### Classification Report (Precision, Recall, F1)"
      ]
    },
    {
      "cell_type": "code",
      "execution_count": 17,
      "metadata": {
        "colab": {
          "base_uri": "https://localhost:8080/"
        },
        "id": "raJLs0VRqwlg",
        "outputId": "f605204c-735a-4999-f7de-21a3ff8b45ec"
      },
      "outputs": [
        {
          "name": "stdout",
          "output_type": "stream",
          "text": [
            "              precision    recall  f1-score   support\n",
            "\n",
            "           0       0.78      0.81      0.80      6388\n",
            "           1       0.71      0.67      0.69      4403\n",
            "\n",
            "    accuracy                           0.75     10791\n",
            "   macro avg       0.75      0.74      0.74     10791\n",
            "weighted avg       0.75      0.75      0.75     10791\n",
            "\n"
          ]
        }
      ],
      "source": [
        "print(classification_report(human_labels, predicted_labels))"
      ]
    },
    {
      "cell_type": "code",
      "execution_count": 18,
      "metadata": {
        "colab": {
          "base_uri": "https://localhost:8080/"
        },
        "id": "0p4OdONoree7",
        "outputId": "df60f7ac-04d5-436f-d239-9b1989132d09"
      },
      "outputs": [
        {
          "name": "stdout",
          "output_type": "stream",
          "text": [
            "0.7535909554258178\n"
          ]
        }
      ],
      "source": [
        "print(accuracy_score(human_labels, predicted_labels))"
      ]
    },
    {
      "cell_type": "markdown",
      "metadata": {
        "id": "RLweP0Y30vv-"
      },
      "source": [
        "### ROC-AUC"
      ]
    },
    {
      "cell_type": "markdown",
      "metadata": {
        "id": "OD__KkUgfaqB"
      },
      "source": [
        "ROC Curve tells us how the model performs in comparison to random chance across all possible classification thresholds. AUC is simply area-under-curve so given that it is a 1x1 grid, the closer to 1 the better."
      ]
    },
    {
      "cell_type": "code",
      "execution_count": 19,
      "metadata": {
        "colab": {
          "base_uri": "https://localhost:8080/",
          "height": 564
        },
        "id": "F7ILhRp6ee32",
        "outputId": "c7abe95a-d5f6-473e-ac87-066f11d52356"
      },
      "outputs": [
        {
          "data": {
            "image/png": "[encoded data removed]",
            "text/plain": [
              "<Figure size 800x600 with 1 Axes>"
            ]
          },
          "metadata": {},
          "output_type": "display_data"
        }
      ],
      "source": [
        "fpr, tpr, thresholds = roc_curve(human_labels, full_predictions['predicted_decimal'])\n",
        "\n",
        "# --- Calculate AUC score ---\n",
        "auc = roc_auc_score(human_labels, full_predictions['predicted_decimal'])\n",
        "\n",
        "# --- Plot the ROC curve ---\n",
        "plt.figure(figsize=(8, 6))\n",
        "\n",
        "# Plot the ROC curve (FPR vs TPR)\n",
        "plt.plot(fpr, tpr, color='darkorange', lw=2, label=f'ROC curve (AUC = {auc:.2f})')\n",
        "\n",
        "# Plot the diagonal line representing random chance\n",
        "plt.plot([0, 1], [0, 1], color='navy', lw=2, linestyle='--', label='Random Chance')\n",
        "\n",
        "# Set plot limits and labels\n",
        "plt.xlim([0.0, 1.0])\n",
        "plt.ylim([0.0, 1.05]) # Slightly > 1 to ensure curve is fully visible\n",
        "plt.xlabel('False Positive Rate (FPR)')\n",
        "plt.ylabel('True Positive Rate (TPR)')\n",
        "plt.title('Receiver Operating Characteristic (ROC) Curve')\n",
        "plt.legend(loc=\"lower right\") # Show legend\n",
        "plt.grid(True)\n",
        "plt.show()"
      ]
    },
    {
      "cell_type": "markdown",
      "metadata": {
        "id": "jT3caFQ92Hwr"
      },
      "source": [
        "## Random Sampling"
      ]
    },
    {
      "cell_type": "markdown",
      "metadata": {
        "id": "eoBqRgklrw5k"
      },
      "source": [
        "Explore random samples\n",
        "- this can be used to find specific examples for presentation or report if needed (where model is right and human is wrong and vice versa)\n",
        "- useful to compare decimal prediction as well"
      ]
    },
    {
      "cell_type": "code",
      "execution_count": 20,
      "metadata": {
        "id": "PZmogig8sjUI"
      },
      "outputs": [],
      "source": [
        "pd.set_option('display.max_colwidth', None) # Show full content of columns"
      ]
    },
    {
      "cell_type": "code",
      "execution_count": 21,
      "metadata": {
        "colab": {
          "base_uri": "https://localhost:8080/",
          "height": 81
        },
        "id": "oupwvV_5riIE",
        "outputId": "5592d52a-eac5-4e38-e6b1-47bd7140de17"
      },
      "outputs": [
        {
          "data": {
            "text/html": [
              "<div>\n",
              "<style scoped>\n",
              "    .dataframe tbody tr th:only-of-type {\n",
              "        vertical-align: middle;\n",
              "    }\n",
              "\n",
              "    .dataframe tbody tr th {\n",
              "        vertical-align: top;\n",
              "    }\n",
              "\n",
              "    .dataframe thead th {\n",
              "        text-align: right;\n",
              "    }\n",
              "</style>\n",
              "<table border=\"1\" class=\"dataframe\">\n",
              "  <thead>\n",
              "    <tr style=\"text-align: right;\">\n",
              "      <th></th>\n",
              "      <th>comment_text</th>\n",
              "      <th>human_binary</th>\n",
              "      <th>predicted_binary</th>\n",
              "      <th>human_decimal</th>\n",
              "      <th>predicted_decimal</th>\n",
              "    </tr>\n",
              "  </thead>\n",
              "  <tbody>\n",
              "    <tr>\n",
              "      <th>4261</th>\n",
              "      <td>If it takes making America the dumbest country on the planet to keep the Republican party afloat, so be it, say Republicans.</td>\n",
              "      <td>1</td>\n",
              "      <td>1</td>\n",
              "      <td>0.690141</td>\n",
              "      <td>0.97532</td>\n",
              "    </tr>\n",
              "  </tbody>\n",
              "</table>\n",
              "</div>"
            ],
            "text/plain": [
              "                                                                                                                      comment_text  \\\n",
              "4261  If it takes making America the dumbest country on the planet to keep the Republican party afloat, so be it, say Republicans.   \n",
              "\n",
              "      human_binary  predicted_binary  human_decimal  predicted_decimal  \n",
              "4261             1                 1       0.690141            0.97532  "
            ]
          },
          "execution_count": 21,
          "metadata": {},
          "output_type": "execute_result"
        }
      ],
      "source": [
        "full_predictions.sample(n=1).iloc[:,0:5]"
      ]
    },
    {
      "cell_type": "markdown",
      "metadata": {
        "id": "pEICuQcO2KSh"
      },
      "source": [
        "## Bias Analysis"
      ]
    },
    {
      "cell_type": "markdown",
      "metadata": {
        "id": "J3w9hmMluGGn"
      },
      "source": [
        "View how many samples have the listed identities greater than 0.0."
      ]
    },
    {
      "cell_type": "code",
      "execution_count": 22,
      "metadata": {
        "colab": {
          "base_uri": "https://localhost:8080/"
        },
        "id": "WRHMTjAhxmGY",
        "outputId": "1e8cd451-3d5f-4c72-90bf-80e4563ba1e9"
      },
      "outputs": [
        {
          "name": "stdout",
          "output_type": "stream",
          "text": [
            "Identity                               Count Toxic  Non-toxic\n",
            "asian                               :   293   113   180\n",
            "atheist                             :    65    22    43\n",
            "bisexual                            :   130    52    78\n",
            "black                               :  1114   541   573\n",
            "buddhist                            :    37    15    22\n",
            "christian                           :  1600   513  1087\n",
            "female                              :  2441   988  1453\n",
            "heterosexual                        :   163    64    99\n",
            "hindu                               :    47    12    35\n",
            "homosexual_gay_or_lesbian           :   835   375   460\n",
            "intellectual_or_learning_disability :   112    65    47\n",
            "jewish                              :   408   149   259\n",
            "latino                              :   237   118   119\n",
            "male                                :  2685  1130  1555\n",
            "muslim                              :  1285   527   758\n",
            "other_disability                    :   108    42    66\n",
            "other_gender                        :    90    39    51\n",
            "other_race_or_ethnicity             :   606   256   350\n",
            "other_religion                      :   563   186   377\n",
            "other_sexual_orientation            :   206    88   118\n",
            "physical_disability                 :    96    41    55\n",
            "psychiatric_or_mental_illness       :   452   235   217\n",
            "transgender                         :   270   100   170\n"
          ]
        }
      ],
      "source": [
        "print(f\"Identity                               Count Toxic  Non-toxic\")\n",
        "for identity in full_predictions.columns[5:-1]:\n",
        "\n",
        "    # 1. Create a boolean mask for rows where the identity > 0.0\n",
        "    is_positive_mask = full_predictions[identity] > 0.0\n",
        "\n",
        "    # 2. Get the total count of positive samples for this identity\n",
        "    total_positive_count = is_positive_mask.sum()\n",
        "\n",
        "    # Initialize counts for labels 1 and 0\n",
        "    count_label_1 = 0\n",
        "    count_label_0 = 0\n",
        "\n",
        "    # 3. If there are any rows meeting the condition (> 0.0)...\n",
        "    if total_positive_count > 0:\n",
        "        # Select the 'true_label' column *only* for the rows identified by the mask\n",
        "        labels_for_positive_rows = full_predictions.loc[is_positive_mask, 'human_binary']\n",
        "\n",
        "        # Count the occurrences of 1 and 0 within this subset of labels\n",
        "        count_label_1 = (labels_for_positive_rows == 1).sum()\n",
        "        count_label_0 = (labels_for_positive_rows == 0).sum()\n",
        "\n",
        "    # 4. Print the results for this identity feature\n",
        "    print(f\"{identity:36s}: {total_positive_count:5d} {count_label_1:5d} {count_label_0:5d}\")"
      ]
    },
    {
      "cell_type": "markdown",
      "metadata": {
        "id": "RQRLR3cK2AME"
      },
      "source": [
        "### False positive/negative rates\n",
        "- this should help determine which identities are most often misclassified\n",
        "- comes with a grain of salt because humans are labeling these identities and it is not their main objective"
      ]
    },
    {
      "cell_type": "code",
      "execution_count": 23,
      "metadata": {
        "colab": {
          "base_uri": "https://localhost:8080/"
        },
        "id": "7kawQrTc15-T",
        "outputId": "ef69ea3a-2469-499d-cd5e-69d75a33afc4"
      },
      "outputs": [
        {
          "name": "stdout",
          "output_type": "stream",
          "text": [
            "FP,     FN,    Identity\n",
            "0.2056, 0.3805 asian\n",
            "0.2791, 0.4091 atheist\n",
            "0.1667, 0.3462 bisexual\n",
            "0.2723, 0.2791 black\n",
            "0.0909, 0.5333 buddhist\n",
            "0.1490, 0.4074 christian\n",
            "0.2017, 0.3330 female\n",
            "0.2121, 0.4062 heterosexual\n",
            "0.1429, 0.2500 hindu\n",
            "0.2109, 0.3493 homosexual_gay_or_lesbian\n",
            "0.3191, 0.1692 intellectual_or_learning_disability\n",
            "0.1660, 0.5235 jewish\n",
            "0.1933, 0.2797 latino\n",
            "0.2109, 0.3142 male\n",
            "0.2150, 0.3757 muslim\n",
            "0.2273, 0.4524 other_disability\n",
            "0.1961, 0.3590 other_gender\n",
            "0.2000, 0.3398 other_race_or_ethnicity\n",
            "0.1777, 0.3226 other_religion\n",
            "0.1525, 0.4091 other_sexual_orientation\n",
            "0.0909, 0.4878 physical_disability\n",
            "0.1889, 0.2596 psychiatric_or_mental_illness\n",
            "0.1412, 0.4200 transgender\n"
          ]
        }
      ],
      "source": [
        "false_preds = dict()\n",
        "print(\"FP,     FN,    Identity\")\n",
        "for identity in full_predictions.columns[5:-1]:\n",
        "  selected_preds = full_predictions[(full_predictions[identity] > 0.0)]\n",
        "  tn, fp, fn, tp = confusion_matrix(selected_preds['human_binary'],selected_preds['predicted_binary']).ravel()\n",
        "  false_preds[identity] = [fp/(fp+tn), fn/(fn+tp)]\n",
        "for key, value in false_preds.items():\n",
        "  print(f\"{round(value[0], 4):.4f}, {round(value[1], 4):.4f} {key}\")"
      ]
    },
    {
      "cell_type": "markdown",
      "metadata": {
        "id": "nHydEoLHn7zj"
      },
      "source": [
        "### AUC scores by identity\n",
        "\n",
        "- focus on underperformance relative to overall average"
      ]
    },
    {
      "cell_type": "code",
      "execution_count": 24,
      "metadata": {
        "colab": {
          "base_uri": "https://localhost:8080/"
        },
        "id": "FHOQ5_H5mpSn",
        "outputId": "efa0e8dd-7381-4b7b-d0c5-4f2374e3ac9a"
      },
      "outputs": [
        {
          "name": "stdout",
          "output_type": "stream",
          "text": [
            "AUC     Identity\n",
            "0.9048, hindu\n",
            "0.8481, other_religion\n",
            "0.8450, psychiatric_or_mental_illness\n",
            "0.8412, intellectual_or_learning_disability\n",
            "0.8407, bisexual\n",
            "0.8361, transgender\n",
            "0.8353, latino\n",
            "0.8335, other_sexual_orientation\n",
            "0.8160, other_gender\n",
            "0.8154, christian\n",
            "0.8152, buddhist\n",
            "0.8149, female\n",
            "0.8093, heterosexual\n",
            "0.8080, male\n",
            "0.8073, asian\n",
            "0.8025, other_race_or_ethnicity\n",
            "0.8021, homosexual_gay_or_lesbian\n",
            "0.8011, black\n",
            "0.7828, jewish\n",
            "0.7779, muslim\n",
            "0.7722, other_disability\n",
            "0.7596, physical_disability\n",
            "0.7262, atheist\n"
          ]
        }
      ],
      "source": [
        "auc_identities = dict()\n",
        "print(\"AUC     Identity\")\n",
        "for identity in full_predictions.columns[5:-1]:\n",
        "  selected_preds = full_predictions[(full_predictions[identity] > 0.0)]\n",
        "  auc = roc_auc_score(selected_preds['human_binary'],selected_preds['predicted_decimal'])\n",
        "  auc_identities[identity] = auc\n",
        "auc_identities = {k: v for k, v in sorted(auc_identities.items(), key=lambda item: item[1], reverse=True)}\n",
        "for key, value in auc_identities.items():\n",
        "  print(f\"{round(value, 4):.4f}, {key}\")"
      ]
    },
    {
      "cell_type": "markdown",
      "metadata": {
        "id": "L72W_wt9oQ4a"
      },
      "source": [
        "Noteworthy contrast could be between disability types... strong at mental disability, second-worst at physical disability"
      ]
    }
  ],
  "metadata": {
    "colab": {
      "collapsed_sections": [
        "XNfM3qvSuiKO"
      ],
      "provenance": []
    },
    "kernelspec": {
      "display_name": ".venv",
      "language": "python",
      "name": "python3"
    },
    "language_info": {
      "codemirror_mode": {
        "name": "ipython",
        "version": 3
      },
      "file_extension": ".py",
      "mimetype": "text/x-python",
      "name": "python",
      "nbconvert_exporter": "python",
      "pygments_lexer": "ipython3",
      "version": "3.12.11"
    }
  },
  "nbformat": 4,
  "nbformat_minor": 0
}
